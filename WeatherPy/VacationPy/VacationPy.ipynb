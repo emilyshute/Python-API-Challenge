{
 "cells": [
  {
   "cell_type": "code",
   "execution_count": 1,
   "metadata": {},
   "outputs": [],
   "source": [
    "# Dependencies and Setup\n",
    "import matplotlib.pyplot as plt\n",
    "import pandas as pd\n",
    "import numpy as np\n",
    "import requests\n",
    "import gmaps\n",
    "import os\n",
    "import json\n",
    "\n",
    "# Import API key\n",
    "from api_keys import g_key\n",
    "\n",
    "#Configure gmaps.\n",
    "gmaps.configure(api_key=g_key)"
   ]
  },
  {
   "cell_type": "markdown",
   "metadata": {},
   "source": [
    "Store Part I results into DataFrame"
   ]
  },
  {
   "cell_type": "code",
   "execution_count": 2,
   "metadata": {},
   "outputs": [
    {
     "data": {
      "text/html": [
       "<div>\n",
       "<style scoped>\n",
       "    .dataframe tbody tr th:only-of-type {\n",
       "        vertical-align: middle;\n",
       "    }\n",
       "\n",
       "    .dataframe tbody tr th {\n",
       "        vertical-align: top;\n",
       "    }\n",
       "\n",
       "    .dataframe thead th {\n",
       "        text-align: right;\n",
       "    }\n",
       "</style>\n",
       "<table border=\"1\" class=\"dataframe\">\n",
       "  <thead>\n",
       "    <tr style=\"text-align: right;\">\n",
       "      <th></th>\n",
       "      <th>City</th>\n",
       "      <th>Lat</th>\n",
       "      <th>Lng</th>\n",
       "      <th>Max Temp</th>\n",
       "      <th>Humidity</th>\n",
       "      <th>Cloudiness</th>\n",
       "      <th>Wind Speed</th>\n",
       "      <th>Country</th>\n",
       "      <th>Date</th>\n",
       "    </tr>\n",
       "  </thead>\n",
       "  <tbody>\n",
       "    <tr>\n",
       "      <th>0</th>\n",
       "      <td>East London</td>\n",
       "      <td>-33.02</td>\n",
       "      <td>27.91</td>\n",
       "      <td>292.15</td>\n",
       "      <td>19</td>\n",
       "      <td>0</td>\n",
       "      <td>3.60</td>\n",
       "      <td>ZA</td>\n",
       "      <td>1595059155</td>\n",
       "    </tr>\n",
       "    <tr>\n",
       "      <th>1</th>\n",
       "      <td>Yulara</td>\n",
       "      <td>-25.24</td>\n",
       "      <td>130.99</td>\n",
       "      <td>298.15</td>\n",
       "      <td>12</td>\n",
       "      <td>5</td>\n",
       "      <td>2.10</td>\n",
       "      <td>AU</td>\n",
       "      <td>1595059155</td>\n",
       "    </tr>\n",
       "    <tr>\n",
       "      <th>2</th>\n",
       "      <td>Khatanga</td>\n",
       "      <td>71.97</td>\n",
       "      <td>102.50</td>\n",
       "      <td>280.09</td>\n",
       "      <td>86</td>\n",
       "      <td>100</td>\n",
       "      <td>2.53</td>\n",
       "      <td>RU</td>\n",
       "      <td>1595059156</td>\n",
       "    </tr>\n",
       "    <tr>\n",
       "      <th>3</th>\n",
       "      <td>Airai</td>\n",
       "      <td>-8.93</td>\n",
       "      <td>125.41</td>\n",
       "      <td>293.47</td>\n",
       "      <td>60</td>\n",
       "      <td>4</td>\n",
       "      <td>1.74</td>\n",
       "      <td>TL</td>\n",
       "      <td>1595059157</td>\n",
       "    </tr>\n",
       "    <tr>\n",
       "      <th>4</th>\n",
       "      <td>Itanhém</td>\n",
       "      <td>-17.17</td>\n",
       "      <td>-40.33</td>\n",
       "      <td>287.98</td>\n",
       "      <td>88</td>\n",
       "      <td>11</td>\n",
       "      <td>0.58</td>\n",
       "      <td>BR</td>\n",
       "      <td>1595059158</td>\n",
       "    </tr>\n",
       "  </tbody>\n",
       "</table>\n",
       "</div>"
      ],
      "text/plain": [
       "          City    Lat     Lng  Max Temp  Humidity  Cloudiness  Wind Speed  \\\n",
       "0  East London -33.02   27.91    292.15        19           0        3.60   \n",
       "1       Yulara -25.24  130.99    298.15        12           5        2.10   \n",
       "2     Khatanga  71.97  102.50    280.09        86         100        2.53   \n",
       "3        Airai  -8.93  125.41    293.47        60           4        1.74   \n",
       "4      Itanhém -17.17  -40.33    287.98        88          11        0.58   \n",
       "\n",
       "  Country        Date  \n",
       "0      ZA  1595059155  \n",
       "1      AU  1595059155  \n",
       "2      RU  1595059156  \n",
       "3      TL  1595059157  \n",
       "4      BR  1595059158  "
      ]
     },
     "execution_count": 2,
     "metadata": {},
     "output_type": "execute_result"
    }
   ],
   "source": [
    "#Load the csv exported in Part I to a DataFrame\n",
    "weather_df = pd.read_csv(\"/Users/matthewvicario/Desktop/Python-API-Challenge/WeatherPy/Output_Data/cities.csv\")\n",
    "weather_df.head()"
   ]
  },
  {
   "cell_type": "markdown",
   "metadata": {},
   "source": [
    "Humidity Heatmap"
   ]
  },
  {
   "cell_type": "code",
   "execution_count": 7,
   "metadata": {},
   "outputs": [
    {
     "data": {
      "application/vnd.jupyter.widget-view+json": {
       "model_id": "25e2efb5319642f39958426dc21bf564",
       "version_major": 2,
       "version_minor": 0
      },
      "text/plain": [
       "Figure(layout=FigureLayout(height='420px'))"
      ]
     },
     "metadata": {},
     "output_type": "display_data"
    }
   ],
   "source": [
    "#Use the Lat and Lng as locations and Humidity as the weight.\n",
    "locations = weather_df[[\"Lat\", \"Lng\"]]\n",
    "humidity = weather_df[\"Humidity\"].astype(float)\n",
    "\n",
    "#Add Heatmap layer to map.\n",
    "heatmap = gmaps.figure()\n",
    "heat_layer = gmaps.heatmap_layer(locations, weights=humidity, dissipating=False, \n",
    "                                 max_intensity=np.max(humidity), point_radius=3)\n",
    "heatmap.add_layer(heat_layer)\n",
    "heatmap"
   ]
  },
  {
   "cell_type": "markdown",
   "metadata": {},
   "source": [
    " Create new DataFrame fitting weather criteria"
   ]
  },
  {
   "cell_type": "code",
   "execution_count": null,
   "metadata": {},
   "outputs": [],
   "source": [
    "#Narrow down the cities to fit weather conditions.\n",
    "#Drop any rows will null values.\n"
   ]
  }
 ],
 "metadata": {
  "kernelspec": {
   "display_name": "Python 3",
   "language": "python",
   "name": "python3"
  },
  "language_info": {
   "codemirror_mode": {
    "name": "ipython",
    "version": 3
   },
   "file_extension": ".py",
   "mimetype": "text/x-python",
   "name": "python",
   "nbconvert_exporter": "python",
   "pygments_lexer": "ipython3",
   "version": "3.7.6"
  }
 },
 "nbformat": 4,
 "nbformat_minor": 4
}
